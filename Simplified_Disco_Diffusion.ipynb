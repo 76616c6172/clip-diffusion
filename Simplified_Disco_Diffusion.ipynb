{
  "nbformat": 4,
  "nbformat_minor": 0,
  "metadata": {
    "colab": {
      "name": "Simplified Disco Diffusion",
      "provenance": [],
      "authorship_tag": "ABX9TyMwx3Fy+UUP+gfE+AIW6mP0",
      "include_colab_link": true
    },
    "kernelspec": {
      "name": "python3",
      "display_name": "Python 3"
    },
    "language_info": {
      "name": "python"
    },
    "accelerator": "GPU"
  },
  "cells": [
    {
      "cell_type": "markdown",
      "metadata": {
        "id": "view-in-github",
        "colab_type": "text"
      },
      "source": [
        "<a href=\"https://colab.research.google.com/github/entmike/disco-diffusion-1/blob/main/Simplified_Disco_Diffusion.ipynb\" target=\"_parent\"><img src=\"https://colab.research.google.com/assets/colab-badge.svg\" alt=\"Open In Colab\"/></a>"
      ]
    },
    {
      "cell_type": "markdown",
      "source": [
        "# Simplified Disco Diffusion\n",
        "\n",
        "[![Discord](https://badgen.net/badge/icon/discord?icon=discord&label)](https://discord.gg/FqsE83fT)\n",
        "[![Maintenance](https://img.shields.io/badge/Maintained%3F-yes-green.svg)](https://github.com/entmike/disco-diffusion-1)\n",
        "![Terminal](https://badgen.net/badge/icon/terminal?icon=terminal&label)\n",
        "[![Issues](https://img.shields.io/github/issues/entmike/disco-diffusion-1)](https://github.com/entmike/disco-diffusion-1/issues)\n",
        "![Stars](https://img.shields.io/github/stars/entmike/disco-diffusion-1)\n",
        "![Commits](https://img.shields.io/github/commit-activity/w/entmike/disco-diffusion-1)\n",
        "\n",
        "**Expand this section for details.**"
      ],
      "metadata": {
        "id": "BCAHI8ctUled"
      }
    },
    {
      "cell_type": "markdown",
      "source": [
        "🙏 Inspired from [alembics Notebook](https://colab.research.google.com/github/alembics/disco-diffusion/blob/main/Disco_Diffusion.ipynb) and others.\n",
        "\n",
        "🙋‍♂️ Contributions welcomed at [https://github.com/entmike/disco-diffusion-1](https://github.com/entmike/disco-diffusion-1)\n",
        "\n",
        "## Help\n",
        "- [Zippy's DD Cheatsheet](https://docs.google.com/document/d/1l8s7uS2dGqjztYSjPpzlmXLjl5PM3IGkRWI3IiCuK7g)\n",
        "\n",
        "- [EZ Charts](https://docs.google.com/document/d/1ORymHm0Te18qKiHnhcdgGp-WSt8ZkLZvow3raiu2DVU)\n",
        "\n",
        "\n",
        "### Changes/Enhancements\n",
        "\n",
        "- All functions moved to `dd.py` that are not needed in the Notebook to reduce clutter and hopefully improve readibility.\n",
        "\n",
        "- All other Git repos that used to get cloned and dumped in your Google Drive are now referenced as pip packages.\n",
        "\n",
        "### Command-Line Support\n",
        "\n",
        "  After running the **Set Up Environment** cell, from your Google Colab Terminal you can run your Disco Diffusion workload from a terminal or make a `bash` script to do multiple different batches.  Example:\n",
        "\n",
        "  ```bash\n",
        "  cd /content/gdrive/MyDrive/disco-diffusion-1\n",
        "  python disco.py --steps=50 --batch_name=\"CommandLineBatch\" --RN50=False \\\n",
        "  --text_prompts='{\"0\":[\"A beautiful painting of a dolphin\",\"ocean theme\"]}'\n",
        "  ```\n",
        "### YAML Support from Terminal\n",
        "\n",
        "  Use a YAML file to save/change your settings.  (See `examples/configs/lighthouse.yml` for an example structure.)\n",
        "   ```bash\n",
        "   cd /content/gdrive/MyDrive/disco-diffusion-1\n",
        "   python disco.py --config_file=examples/configs/lighthouse.yml\n",
        "   ```\n"
      ],
      "metadata": {
        "id": "aXzkWx43gQ_z"
      }
    },
    {
      "cell_type": "markdown",
      "source": [
        "# Set Up Environment\n",
        "\n",
        "**Run is Required.**\n",
        "\n",
        "Expand to set parameters related to location, Git Repo, and Branch to pull Discord Diffusion from."
      ],
      "metadata": {
        "id": "_3sbBihUgaF_"
      }
    },
    {
      "cell_type": "code",
      "execution_count": 1,
      "metadata": {
        "colab": {
          "base_uri": "https://localhost:8080/"
        },
        "id": "EFWmomp7NLPP",
        "outputId": "5f6334a4-d106-42fa-baa0-d18d56b05029"
      },
      "outputs": [
        {
          "output_type": "stream",
          "name": "stdout",
          "text": [
            "Current directory: /content\n",
            "📁 Mounting Google Drive.  Please accept any confirmation screens.\n",
            "Mounted at /content/gdrive/\n",
            "✅ Disco Diffusion root path will be \"/content/gdrive/MyDrive/disco-diffusion-1\"\n",
            "Google Colab detected.\n",
            "Cloning repo 'https://github.com/entmike/disco-diffusion-1' into '/content/gdrive/MyDrive/disco-diffusion-1'...\n",
            "📄 Pulling updates from GitHub...\n",
            "\n",
            "M\tdownload_models.sh\n",
            "M\texamples/docker/disco-file.sh\n",
            "M\texamples/docker/disco.sh\n",
            "M\texamples/docker/unittest.sh\n",
            "M\texamples/linux/configfile.sh\n",
            "M\texamples/linux/simple.sh\n",
            "Your branch is up to date with 'origin/main'.\n",
            "\n",
            "Already up to date.\n",
            "\n",
            "📦 Upgrading pyyaml...\n",
            "📦 Installing pip requirements...\n"
          ]
        }
      ],
      "source": [
        "#@title Set Up Environment { display-mode: \"form\" }\n",
        "import os, sys\n",
        "import subprocess, torch\n",
        "\n",
        "#@markdown Leave these as defaults unless you know what you are doing.\n",
        "\n",
        "use_google_drive = True #@param {type:\"boolean\"}\n",
        "save_models = True #@param {type:\"boolean\"}\n",
        "check_for_updates = True #@param {type:\"boolean\"}\n",
        "content_root = '/content'\n",
        "repo = \"https://github.com/entmike/disco-diffusion-1\" #@param {type:\"string\"}\n",
        "branch = \"main\" #@param {type:\"string\"}\n",
        "cwd = os.path.abspath('.')\n",
        "is_local=True\n",
        "\n",
        "if is_local: content_root=cwd\n",
        "print (f'Current directory: {cwd}')\n",
        "\n",
        "if use_google_drive == True:\n",
        "  import os\n",
        "  from google.colab import drive\n",
        "  if os.path.isdir('/content/gdrive') == False:\n",
        "    print(f'📁 Mounting Google Drive.  Please accept any confirmation screens.')\n",
        "    drive.mount('/content/gdrive/')\n",
        "  else:\n",
        "    print(f'📁 Google Drive already mounted.')\n",
        "  content_root = '/content/gdrive/MyDrive'\n",
        "\n",
        "dd_root = f'{content_root}/disco-diffusion-1'\n",
        "\n",
        "print(f'✅ Disco Diffusion root path will be \"{dd_root}\"')\n",
        "\n",
        "is_colab = False\n",
        "try:\n",
        "    from google.colab import drive\n",
        "    print(\"Google Colab detected.\")\n",
        "    is_colab=True\n",
        "except:\n",
        "    print(\"Google Colab not detected.\")\n",
        "    is_colab=False\n",
        "\n",
        "root_path = dd_root\n",
        "\n",
        "# Clone Repo\n",
        "if os.path.isdir(f'{dd_root}') == False:\n",
        "  print(f\"Cloning repo '{repo}' into '{dd_root}'...\")\n",
        "  os.chdir(f'{content_root}')\n",
        "  subprocess.run(f'git clone {repo}'.split(' '), stdout=subprocess.PIPE).stdout.decode(\"utf-8\")\n",
        "\n",
        "os.chdir(f'{dd_root}')\n",
        "if check_for_updates == True:\n",
        "  # Pull any updates\n",
        "  print(f'📄 Pulling updates from GitHub...')\n",
        "  for cmd in ['git clean -df', f'git checkout {branch}', f'git pull origin {branch}']:\n",
        "    gitresults = subprocess.run(f'{cmd}'.split(' '), stdout=subprocess.PIPE).stdout.decode(\"utf-8\")\n",
        "    print(f'{gitresults}')\n",
        "else:\n",
        "  print(\"⚠️ Skipping checking for Git updates\")\n",
        "#Upgrade pyyaml if in Colab\n",
        "if is_colab:\n",
        "    print(f'📦 Upgrading pyyaml...')\n",
        "    subprocess.run(f'pip install --upgrade pyyaml --quiet'.split(' '), stdout=subprocess.PIPE).stdout.decode(\"utf-8\")\n",
        "    print(f'📦 Installing pip requirements...')\n",
        "    subprocess.run(f'pip install -r colab-requirements.txt --quiet'.split(' '), stdout=subprocess.PIPE).stdout.decode(\"utf-8\")\n",
        "\n",
        "\n",
        "# Set base project directory to current working directory\n",
        "PROJECT_DIR = dd_root\n",
        "\n",
        "# Import DD helper modules\n",
        "sys.path.append(PROJECT_DIR)\n",
        "import dd, dd_args\n",
        "\n",
        "# Unsure about these:\n",
        "os.environ[\"KMP_DUPLICATE_LIB_OK\"] = \"TRUE\"\n",
        "# import warnings\n",
        "# warnings.filterwarnings(\"ignore\", category=UserWarning)\n",
        "\n",
        "# print(dd.is_in_notebook())"
      ]
    },
    {
      "cell_type": "markdown",
      "source": [
        "# Parameters\n",
        "\n",
        "**Press Run to Apply Parameter changes.**\n",
        "\n",
        "Expand to see parameters."
      ],
      "metadata": {
        "id": "o42p2jAvhHvp"
      }
    },
    {
      "cell_type": "code",
      "source": [
        "#@title ## Main Parameters\n",
        "from pydotted import pydot\n",
        "args = pydot({})\n",
        "#@markdown `batch_name` specifies the folder name created in `images_out` to store your images.\n",
        "args.batch_name = \"TimeToDisco\" #@param {type:\"string\"}\n",
        "args.cuda_device = \"cuda:0\"\n",
        "args.gen_config = \"AUTO\" #@param {type:\"string\"}\n",
        "args.gen_config_only = False #@param {type:\"boolean\"}\n",
        "args.config_file = None #@param {type: \"raw\"}\n",
        "#@markdown `set_seed` Default: 'random_seed' Accepts any integer\n",
        "args.set_seed = 'random_seed' #@param type=\"raw\"\n",
        "args.n_batches = 50 #@param {type:\"number\"}\n",
        "args.width_height = [1280,768] #@param {type:\"raw\"}\n",
        "args.steps = 170 #@param {type:\"slider\", min:0, max:1000, step:10}\n",
        "args.text_prompts = {     0: [\"A beautiful painting of a singular lighthouse, shining its light across a tumultuous sea of blood by greg rutkowski and thomas kinkade, Trending on artstation.\", \"yellow color scheme\"],     100: [\"This set of prompts start at frame 100\",\"This prompt has weight five:5\"], } #@param type=\"raw\"\n",
        "args.image_prompts = { } #@param type=\"raw\"\n",
        "args.google_drive = False\n",
        "#@markdown ## Models\n",
        "args.RN50 = True #@param {type:\"boolean\"}\n",
        "args.RN101 = False #@param {type:\"boolean\"}\n",
        "args.RN50x64 = False #@param {type:\"boolean\"}\n",
        "args.RN50x16 = False #@param {type:\"boolean\"}\n",
        "args.RN50x4 = False #@param {type:\"boolean\"}\n",
        "args.ViTB16 = True #@param {type:\"boolean\"}\n",
        "args.ViTB32 = True #@param {type:\"boolean\"}\n",
        "args.ViTL14 = False #@param {type:\"boolean\"}\n",
        "args.ViTL14_336 = False #@param {type:\"boolean\"}\n",
        "args.use_secondary_model = True #@param {type:\"boolean\"}\n",
        "args.diffusion_model = \"512x512_diffusion_uncond_finetune_008100\" #@param [\"512x512_diffusion_uncond_finetune_008100\", \"256x256_diffusion_uncond\"]\n",
        "args.use_checkpoint = True #@param {type:\"boolean\"}\n",
        "args.cutout_debug = False #@param {type:\"boolean\"}\n",
        "args.diffusion_sampling_mode = \"ddim\" #@param [\"ddim\", \"plms\"]\n",
        "args.clip_guidance_scale = 5000 #@param {type:\"number\"}\n",
        "args.tv_scale = 0 #@param {type:\"number\"}\n",
        "args.range_scale = 150 #@param {type:\"number\"}\n",
        "args.sat_scale = 0 #@param {type:\"number\"}\n",
        "args.cutn_batches = 4 #@param {type:\"number\"}\n",
        "args.skip_augs = False #@param {type:\"boolean\"}\n",
        "args.init_image = None #@param {type:\"raw\"}\n",
        "args.init_scale = 1000 #@param {type:\"number\"}\n",
        "args.skip_steps = 10 #@param {type:\"number\"}\n",
        "args.animation_mode = \"None\" #@param [\"None\", \"2D\", \"3D\", \"Video Input\"]\n",
        "args.video_init_path = \"training.mp4\" #@param {type:\"string\"}\n",
        "args.extract_nth_frame = 10 #@param {type:\"number\"}\n",
        "args.video_init_seed_continuity = True #@param {type:\"boolean\"}\n",
        "args.key_frames = True #@param {type:\"boolean\"}\n",
        "args.max_frames = 10000 #@param {type:\"number\"}\n",
        "args.interp_spline = \"Linear\" #@param [\"Linear\", \"Quadratic\", \"Cubic\"]\n",
        "args.resume_run = False #@param {type:\"boolean\"}\n",
        "args.run_to_resume = \"latest\" #@param {type:\"string\"}\n",
        "args.frames_skip_steps = \"60%\" #@param {type:\"string\"}\n",
        "args.intermediate_saves = 0 #@param {type:\"number\"}\n",
        "args.intermediates_in_subfolder = True #@param {type:\"boolean\"}\n",
        "args.console_preview = False #@param {type:\"boolean\"}\n",
        "args.console_preview_width = 80 #@param {type:\"number\"}\n",
        "args.display_rate = 50 #@param {type:\"number\"}\n",
        "args.retain_overwritten_frames = False #@param {type:\"boolean\"}\n",
        "args.vr_mode = False #@param {type:\"boolean\"}\n",
        "args.angle = '0:(0)' #@param {type:\"string\"}\n",
        "args.zoom = '0:(1),10:(1.05)' #@param {type:\"string\"}\n",
        "args.translation_x = \"0: (0)\" #@param {type:\"string\"}\n",
        "args.translation_y = \"0: (0)\" #@param {type:\"string\"}\n",
        "args.translation_z = \"0: (10.0)\" #@param {type:\"string\"}\n",
        "args.rotation_3d_x = \"0: (0)\" #@param {type:\"string\"}\n",
        "args.rotation_3d_y = \"0: (0)\" #@param {type:\"string\"}\n",
        "args.rotation_3d_z = \"0: (0)\" #@param {type:\"string\"} \n",
        "args.midas_depth_model = \"dpt_large\" #@param {type:\"string\"}\n",
        "args.midas_weight = 0.3 #@param {type:\"number\"}\n",
        "args.near_plane = 0 #@param {type:\"number\"}\n",
        "args.far_plane = 0 #@param {type:\"number\"}\n",
        "args.fov = 0 #@param {type:\"number\"}\n",
        "args.padding_mode = \"border\" #@param {type:\"string\"}\n",
        "args.sampling_mode = \"bicubic\" #@param {type:\"string\"}\n",
        "args.turbo_mode = False #@param {type:\"boolean\"}\n",
        "args.turbo_steps = 3 #@param {type:\"number\"}\n",
        "args.turbo_preroll = 10#@param {type:\"number\"}\n",
        "args.frames_scale = 1500 #@param {type:\"number\"}\n",
        "args.frames_skip_steps = \"60%\" #@param {type:\"string\"}\n",
        "args.cut_overview = \"[12]*400+[4]*600\" #@param \n",
        "args.cut_innercut = \"[4]*400+[12]*600\" #@param \n",
        "args.cut_icgray_p = \"[0.2]*400+[0]*600\" #@param \n",
        "args.cut_ic_pow = 1 #@param {type:\"number\"}\n",
        "args.perlin_init = False #@param {type:\"boolean\"}\n",
        "args.perlin_mode = \"mixed\" #@param [\"mixed\", \"color\", \"gray\"]\n",
        "args.eta = 0.8 #@param {type:\"number\"}\n",
        "args.clamp_grad = True #@param {type:\"boolean\"}\n",
        "args.clamp_max = 0.05 #@param {type:\"number\"}\n",
        "args.randomize_class = True #@param {type:\"boolean\"}\n",
        "args.clip_denoised = False #@param {type:\"boolean\"}\n",
        "args.fuzzy_prompt = False #@param {type:\"boolean\"}\n",
        "args.rand_mag = 0.05 #@param {type:\"number\"}"
      ],
      "metadata": {
        "cellView": "form",
        "id": "-Rm5thh5NaVd"
      },
      "execution_count": 4,
      "outputs": []
    },
    {
      "cell_type": "markdown",
      "source": [
        "# Start Job\n",
        "\n",
        "**Press Run to Start Job!**"
      ],
      "metadata": {
        "id": "lm_Jz957iBim"
      }
    },
    {
      "cell_type": "code",
      "source": [
        "# Load defaults\n",
        "args = dd_args.arg_configuration_loader(args)\n",
        "\n",
        "# Setup folders\n",
        "folders = dd.setupFolders(is_colab=dd.detectColab(), PROJECT_DIR=PROJECT_DIR, pargs=args)\n",
        "\n",
        "# Load Models\n",
        "dd.loadModels(folders)\n",
        "\n",
        "# Report System Details\n",
        "dd.systemDetails(args)\n",
        "\n",
        "# Get CUDA Device\n",
        "device = dd.getDevice(args)\n",
        "\n",
        "dd.start_run(pargs=args, folders=folders, device=device, is_colab=dd.detectColab())"
      ],
      "metadata": {
        "colab": {
          "base_uri": "https://localhost:8080/"
        },
        "id": "Mnu3_2LvThIZ",
        "outputId": "9e42ba3e-67b9-4021-99e3-6e28a4fce82c"
      },
      "execution_count": null,
      "outputs": [
        {
          "output_type": "stream",
          "name": "stderr",
          "text": [
            "2022-05-04 14:54:15.134 | INFO     | dd_args:arg_configuration_loader:212 - Overriding config file parameter 'f' value to '/root/.local/share/jupyter/runtime/kernel-ee97c23a-103c-40aa-9d5f-5b9ce0faab37.json' found in CLI.\n",
            "2022-05-04 14:54:15.137 | DEBUG    | dd_args:arg_configuration_loader:205 - Found CLI argument 'modifiers' value '{}' not present in config file.  Adding anyway...\n",
            "2022-05-04 14:54:15.140 | DEBUG    | dd_args:arg_configuration_loader:205 - Found CLI argument 'simple_nvidia_smi_display' value 'True' not present in config file.  Adding anyway...\n",
            "2022-05-04 14:54:15.146 | DEBUG    | dd_args:arg_configuration_loader:205 - Found CLI argument 'vr_eye_angle' value '0.5' not present in config file.  Adding anyway...\n",
            "2022-05-04 14:54:15.148 | DEBUG    | dd_args:arg_configuration_loader:205 - Found CLI argument 'vr_ipd' value '5.0' not present in config file.  Adding anyway...\n",
            "2022-05-04 14:54:15.152 | DEBUG    | dd_args:arg_configuration_loader:205 - Found CLI argument 'resume_from_frame' value 'latest' not present in config file.  Adding anyway...\n",
            "2022-05-04 14:54:15.154 | DEBUG    | dd_args:arg_configuration_loader:205 - Found CLI argument 'skip_video_for_run_all' value 'False' not present in config file.  Adding anyway...\n",
            "2022-05-04 14:54:15.156 | DEBUG    | dd_args:arg_configuration_loader:205 - Found CLI argument 'check_model_SHA' value 'False' not present in config file.  Adding anyway...\n",
            "2022-05-04 14:54:15.158 | DEBUG    | dd_args:arg_configuration_loader:205 - Found CLI argument 'symmetry_loss' value 'False' not present in config file.  Adding anyway...\n",
            "2022-05-04 14:54:15.160 | DEBUG    | dd_args:arg_configuration_loader:205 - Found CLI argument 'symmetry_loss_scale' value '1500' not present in config file.  Adding anyway...\n",
            "2022-05-04 14:54:15.162 | DEBUG    | dd_args:arg_configuration_loader:205 - Found CLI argument 'symmetry_switch' value '40' not present in config file.  Adding anyway...\n",
            "2022-05-04 14:54:15.197 | INFO     | dd_args:arg_configuration_loader:230 - Configuration saved in configs/TimeToDisco.yaml\n",
            "2022-05-04 14:54:15.204 | INFO     | dd:loadModels:1984 - 🌍 (First time setup): Downloading model from https://github.com/intel-isl/DPT/releases/download/1_0/dpt_large-midas-2f21e586.pt to /content/gdrive/MyDrive/disco-diffusion-1/models/dpt_large-midas-2f21e586.pt\n",
            "2022-05-04 14:55:27.068 | INFO     | dd:loadModels:1984 - 🌍 (First time setup): Downloading model from https://v-diffusion.s3.us-west-2.amazonaws.com/512x512_diffusion_uncond_finetune_008100.pt to /content/gdrive/MyDrive/disco-diffusion-1/models/512x512_diffusion_uncond_finetune_008100.pt\n",
            "2022-05-04 14:55:27.185 | ERROR    | dd:loadModels:1988 - Download failed.  Fallback URLs will be attempted until exhausted.\n",
            "2022-05-04 14:55:27.188 | INFO     | dd:loadModels:1984 - 🌍 (First time setup): Downloading model from https://huggingface.co/lowlevelware/512x512_diffusion_unconditional_ImageNet/resolve/main/512x512_diffusion_uncond_finetune_008100.pt to /content/gdrive/MyDrive/disco-diffusion-1/models/512x512_diffusion_uncond_finetune_008100.pt\n",
            "2022-05-04 14:56:09.816 | INFO     | dd:loadModels:1984 - 🌍 (First time setup): Downloading model from https://openaipublic.blob.core.windows.net/diffusion/jul-2021/256x256_diffusion_uncond.pt to /content/gdrive/MyDrive/disco-diffusion-1/models/256x256_diffusion_uncond.pt\n"
          ]
        }
      ]
    }
  ]
}
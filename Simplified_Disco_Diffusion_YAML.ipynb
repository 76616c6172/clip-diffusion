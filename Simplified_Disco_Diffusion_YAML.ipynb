{
  "nbformat": 4,
  "nbformat_minor": 0,
  "metadata": {
    "colab": {
      "name": "Simplified Disco Diffusion",
      "provenance": [],
      "authorship_tag": "ABX9TyOYJTGjXslmL31+2RUGYROs",
      "include_colab_link": true
    },
    "kernelspec": {
      "name": "python3",
      "display_name": "Python 3"
    },
    "language_info": {
      "name": "python"
    },
    "accelerator": "GPU"
  },
  "cells": [
    {
      "cell_type": "markdown",
      "metadata": {
        "id": "view-in-github",
        "colab_type": "text"
      },
      "source": [
        "<a href=\"https://colab.research.google.com/github/entmike/disco-diffusion-1/blob/main/Simplified_Disco_Diffusion_YAML.ipynb\" target=\"_parent\"><img src=\"https://colab.research.google.com/assets/colab-badge.svg\" alt=\"Open In Colab\"/></a>"
      ]
    },
    {
      "cell_type": "markdown",
      "source": [
        "# 🖼️ Simplified Disco Diffusion (YAML)\n",
        "\n",
        "[![Discord](https://badgen.net/badge/icon/discord?icon=discord&label)](https://discord.gg/FqsE83fT)\n",
        "[![Maintenance](https://img.shields.io/badge/Maintained%3F-yes-green.svg)](https://github.com/entmike/disco-diffusion-1)\n",
        "![Terminal](https://badgen.net/badge/icon/terminal?icon=terminal&label)\n",
        "[![Issues](https://img.shields.io/github/issues/entmike/disco-diffusion-1)](https://github.com/entmike/disco-diffusion-1/issues)\n",
        "![Stars](https://img.shields.io/github/stars/entmike/disco-diffusion-1)\n",
        "![Commits](https://img.shields.io/github/commit-activity/w/entmike/disco-diffusion-1)\n",
        "\n",
        "**Expand this section for details.**"
      ],
      "metadata": {
        "id": "BCAHI8ctUled"
      }
    },
    {
      "cell_type": "markdown",
      "source": [
        "🙏 Inspired from [alembics Notebook](https://colab.research.google.com/github/alembics/disco-diffusion/blob/main/Disco_Diffusion.ipynb) and others.\n",
        "\n",
        "🙋‍♂️ Contributions welcomed at [https://github.com/entmike/disco-diffusion-1](https://github.com/entmike/disco-diffusion-1)\n",
        "\n",
        "## Help\n",
        "- [Zippy's DD Cheatsheet](https://docs.google.com/document/d/1l8s7uS2dGqjztYSjPpzlmXLjl5PM3IGkRWI3IiCuK7g)\n",
        "\n",
        "- [EZ Charts](https://docs.google.com/document/d/1ORymHm0Te18qKiHnhcdgGp-WSt8ZkLZvow3raiu2DVU)\n",
        "\n",
        "\n",
        "## Changes/Enhancements\n",
        "\n",
        "- **May 3, 2022**\n",
        "  - Add Symmetry Parameters\n",
        "  - Add Modifier Parameters for Art Studies!\n",
        "- **May 2, 2022**\n",
        "  - Add initial support for YAML load/export\n",
        "  - Add initial logging support\n",
        "\n",
        "- **April 2022**\n",
        "  - All functions moved to `dd.py` that are not needed in the Notebook to reduce clutter and hopefully improve readibility.\n",
        "\n",
        "  - All other Git repos that used to get cloned and dumped in your Google Drive are now referenced as pip packages.\n",
        "\n",
        "### Command-Line Support\n",
        "\n",
        "  After running the **Set Up Environment** cell, from your Google Colab Terminal you can run your Disco Diffusion workload from a terminal or make a `bash` script to do multiple different batches.  Example:\n",
        "\n",
        "  ```bash\n",
        "  cd /content/gdrive/MyDrive/disco-diffusion-1\n",
        "  python disco.py --steps=50 --batch_name=\"CommandLineBatch\" --RN50=False \\\n",
        "  --text_prompts='{\"0\":[\"A beautiful painting of a dolphin\",\"ocean theme\"]}'\n",
        "  ```\n",
        "### YAML Support from Terminal\n",
        "\n",
        "  Use a YAML file to save/change your settings.  (See `examples/configs/lighthouse.yml` for an example structure.)\n",
        "   ```bash\n",
        "   cd /content/gdrive/MyDrive/disco-diffusion-1\n",
        "   python disco.py --config_file=examples/configs/lighthouse.yml\n",
        "   ```\n"
      ],
      "metadata": {
        "id": "aXzkWx43gQ_z"
      }
    },
    {
      "cell_type": "markdown",
      "source": [
        "# 🌲 Set Up Environment\n",
        "\n",
        "**Run is Required.**\n",
        "\n",
        "Expand to set parameters related to location, Git Repo, and Branch to pull Disco Diffusion from."
      ],
      "metadata": {
        "id": "_3sbBihUgaF_"
      }
    },
    {
      "cell_type": "code",
      "execution_count": null,
      "metadata": {
        "colab": {
          "base_uri": "https://localhost:8080/"
        },
        "id": "EFWmomp7NLPP",
        "outputId": "7b912908-ef17-445f-f7eb-0e1976782811"
      },
      "outputs": [
        {
          "output_type": "stream",
          "name": "stdout",
          "text": [
            "Current directory: /content\n",
            "📁 Google Drive already mounted.\n",
            "✅ Disco Diffusion root path will be \"/content/gdrive/MyDrive/disco-diffusion-1\"\n",
            "Google Colab detected.\n",
            "📄 Pulling updates from GitHub...\n",
            "\n",
            "M\tdownload_models.sh\n",
            "M\texamples/docker/disco-file.sh\n",
            "M\texamples/docker/disco.sh\n",
            "M\texamples/docker/unittest.sh\n",
            "M\texamples/linux/configfile.sh\n",
            "M\texamples/linux/simple.sh\n",
            "Your branch is up to date with 'origin/main'.\n",
            "\n",
            "HEAD is now at fc5a245 Merge branch 'main' of https://github.com/entmike/disco-diffusion-1 into main\n",
            "\n",
            "Already up to date.\n",
            "\n",
            "📦 Upgrading pyyaml...\n",
            "📦 Installing pip requirements...\n"
          ]
        }
      ],
      "source": [
        "#@title Set Up Environment { display-mode: \"form\" }\n",
        "import os, sys\n",
        "import subprocess, torch\n",
        "\n",
        "#@markdown Leave these as defaults unless you know what you are doing.\n",
        "\n",
        "use_google_drive = True #@param {type:\"boolean\"}\n",
        "save_models = True #@param {type:\"boolean\"}\n",
        "check_for_updates = True #@param {type:\"boolean\"}\n",
        "content_root = '/content'\n",
        "repo = \"https://github.com/entmike/disco-diffusion-1\" #@param {type:\"string\"}\n",
        "branch = \"main\" #@param {type:\"string\"}\n",
        "cwd = os.path.abspath('.')\n",
        "is_local=True\n",
        "\n",
        "if is_local: content_root=cwd\n",
        "print (f'Current directory: {cwd}')\n",
        "\n",
        "if use_google_drive == True:\n",
        "  import os\n",
        "  from google.colab import drive\n",
        "  if os.path.isdir('/content/gdrive') == False:\n",
        "    print(f'📁 Mounting Google Drive.  Please accept any confirmation screens.')\n",
        "    drive.mount('/content/gdrive/')\n",
        "  else:\n",
        "    print(f'📁 Google Drive already mounted.')\n",
        "  content_root = '/content/gdrive/MyDrive'\n",
        "\n",
        "dd_root = f'{content_root}/disco-diffusion-1'\n",
        "\n",
        "print(f'✅ Disco Diffusion root path will be \"{dd_root}\"')\n",
        "\n",
        "is_colab = False\n",
        "try:\n",
        "    from google.colab import drive\n",
        "    print(\"Google Colab detected.\")\n",
        "    is_colab=True\n",
        "except:\n",
        "    print(\"Google Colab not detected.\")\n",
        "    is_colab=False\n",
        "\n",
        "root_path = dd_root\n",
        "\n",
        "# Clone Repo\n",
        "if os.path.isdir(f'{dd_root}') == False:\n",
        "  print(f\"Cloning repo '{repo}' into '{dd_root}'...\")\n",
        "  os.chdir(f'{content_root}')\n",
        "  subprocess.run(f'git clone {repo}'.split(' '), stdout=subprocess.PIPE).stdout.decode(\"utf-8\")\n",
        "\n",
        "os.chdir(f'{dd_root}')\n",
        "if check_for_updates == True:\n",
        "  # Pull any updates\n",
        "  print(f'📄 Pulling updates from GitHub...')\n",
        "  for cmd in ['git clean -df', f'git checkout {branch}', f'git reset --hard', f'git pull origin {branch}']:\n",
        "    gitresults = subprocess.run(f'{cmd}'.split(' '), stdout=subprocess.PIPE).stdout.decode(\"utf-8\")\n",
        "    print(f'{gitresults}')\n",
        "else:\n",
        "  print(\"⚠️ Skipping checking for Git updates\")\n",
        "#Upgrade pyyaml if in Colab\n",
        "if is_colab:\n",
        "    print(f'📦 Upgrading pyyaml...')\n",
        "    subprocess.run(f'pip install --upgrade pyyaml --quiet'.split(' '), stdout=subprocess.PIPE).stdout.decode(\"utf-8\")\n",
        "    print(f'📦 Installing pip requirements...')\n",
        "    subprocess.run(f'pip install -r colab-requirements.txt --quiet'.split(' '), stdout=subprocess.PIPE).stdout.decode(\"utf-8\")\n",
        "\n",
        "\n",
        "# Set base project directory to current working directory\n",
        "PROJECT_DIR = dd_root\n",
        "\n",
        "# Import DD helper modules\n",
        "sys.path.append(PROJECT_DIR)\n",
        "import dd, dd_args\n",
        "\n",
        "# Unsure about these:\n",
        "os.environ[\"KMP_DUPLICATE_LIB_OK\"] = \"TRUE\"\n",
        "# import warnings\n",
        "# warnings.filterwarnings(\"ignore\", category=UserWarning)\n",
        "\n",
        "# print(dd.is_in_notebook())"
      ]
    },
    {
      "cell_type": "markdown",
      "source": [
        "# 🏃‍♂️ Start Job\n",
        "\n",
        "**Press Run to Start Job!**\n",
        "\n",
        "🪄 **TIP:** If you have `multipliers` or `modifiers` that result in multiple jobs, you can press the 'Stop' button in your Notebook to skip that job and proceed to the next.  If you have many jobs and want to kill them all, it is easier just to reset the runtime instead of clicking the Stop button over and over, depending on how many jobs there are."
      ],
      "metadata": {
        "id": "lm_Jz957iBim"
      }
    },
    {
      "cell_type": "code",
      "source": [
        "#@title  { display-mode: \"form\" }\n",
        "from pydotted import pydot\n",
        "args = pydot({})\n",
        "args.db = \"/content/gdrive/MyDrive/disco-diffusion-1/disco.db\" #@param {type: \"string\"}\n",
        "args.config_file = \"/content/gdrive/MyDrive/disco-diffusion-1/examples/configs/explore.yaml\" #@param {type: \"string\"}\n",
        "\n",
        "# Load defaults\n",
        "pargs = dd_args.arg_configuration_loader(args)\n",
        "\n",
        "# Setup folders\n",
        "folders = dd.setupFolders(is_colab=dd.detectColab(), PROJECT_DIR=PROJECT_DIR, pargs=pargs)\n",
        "\n",
        "# Load Models\n",
        "dd.loadModels(folders)\n",
        "\n",
        "# Report System Details\n",
        "dd.systemDetails(pargs)\n",
        "\n",
        "# Get CUDA Device\n",
        "device = dd.getDevice(pargs)\n",
        "\n",
        "dd.start_run(pargs=pargs, folders=folders, device=device, is_colab=dd.detectColab())"
      ],
      "metadata": {
        "id": "Mnu3_2LvThIZ"
      },
      "execution_count": null,
      "outputs": []
    }
  ]
}
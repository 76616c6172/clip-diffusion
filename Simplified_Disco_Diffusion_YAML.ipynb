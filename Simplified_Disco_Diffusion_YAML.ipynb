{
  "nbformat": 4,
  "nbformat_minor": 0,
  "metadata": {
    "colab": {
      "name": "Simplified Disco Diffusion",
      "provenance": [],
      "toc_visible": true,
      "include_colab_link": true
    },
    "kernelspec": {
      "name": "python3",
      "display_name": "Python 3"
    },
    "language_info": {
      "name": "python"
    },
    "accelerator": "GPU"
  },
  "cells": [
    {
      "cell_type": "markdown",
      "metadata": {
        "id": "view-in-github",
        "colab_type": "text"
      },
      "source": [
        "<a href=\"https://colab.research.google.com/github/entmike/disco-diffusion-1/blob/main/Simplified_Disco_Diffusion_YAML.ipynb\" target=\"_parent\"><img src=\"https://colab.research.google.com/assets/colab-badge.svg\" alt=\"Open In Colab\"/></a>"
      ]
    },
    {
      "cell_type": "markdown",
      "source": [
        "# 🖼️ Simplified Disco Diffusion (YAML)\n",
        "\n",
        "[![Discord](https://badgen.net/badge/icon/discord?icon=discord&label)](https://discord.gg/Pmy3wFKbna) [![Maintenance](https://img.shields.io/badge/Maintained%3F-yes-green.svg)](https://github.com/entmike/disco-diffusion-1) ![Terminal](https://badgen.net/badge/icon/terminal?icon=terminal&label) [![Issues](https://img.shields.io/github/issues/entmike/disco-diffusion-1)](https://github.com/entmike/disco-diffusion-1/issues) ![Stars](https://img.shields.io/github/stars/entmike/disco-diffusion-1) ![Commits](https://img.shields.io/github/commit-activity/w/entmike/disco-diffusion-1)"
      ],
      "metadata": {
        "id": "N9zS6jrlakMT"
      }
    },
    {
      "cell_type": "markdown",
      "source": [
        "## 💡 About\n",
        "\n",
        "**Run is Optional.**\n",
        "\n",
        "Run this Cell for credits, help, change log, etc."
      ],
      "metadata": {
        "id": "Jw2CJ7F5bP-H"
      }
    },
    {
      "cell_type": "code",
      "source": [
        "import requests\n",
        "from IPython.display import Markdown as md\n",
        "md(requests.get('https://raw.githubusercontent.com/entmike/disco-diffusion-1/main/NOTEBOOK-README.md').text)"
      ],
      "metadata": {
        "id": "iPDCzz51PiXo"
      },
      "execution_count": null,
      "outputs": []
    },
    {
      "cell_type": "markdown",
      "source": [
        "## 🌲 Set Up Environment\n",
        "\n",
        "**Run is Required.**\n",
        "\n",
        "Expand to set parameters related to location, Git Repo, and Branch to pull Disco Diffusion from."
      ],
      "metadata": {
        "id": "_3sbBihUgaF_"
      }
    },
    {
      "cell_type": "code",
      "execution_count": null,
      "metadata": {
        "id": "EFWmomp7NLPP",
        "cellView": "form"
      },
      "outputs": [],
      "source": [
        "import os, sys\n",
        "import subprocess, torch\n",
        "\n",
        "#@markdown Leave these as defaults unless you know what you are doing.\n",
        "\n",
        "use_google_drive = True #@param {type:\"boolean\"}\n",
        "save_models = True #@param {type:\"boolean\"}\n",
        "check_for_updates = True #@param {type:\"boolean\"}\n",
        "content_root = '/content'\n",
        "repo = \"https://github.com/entmike/disco-diffusion-1\" #@param {type:\"string\"}\n",
        "branch = \"main\" #@param {type:\"string\"}\n",
        "cwd = os.path.abspath('.')\n",
        "is_local=True\n",
        "\n",
        "if is_local: content_root=cwd\n",
        "print (f'Current directory: {cwd}')\n",
        "\n",
        "if use_google_drive == True:\n",
        "  import os\n",
        "  from google.colab import drive\n",
        "  if os.path.isdir('/content/gdrive') == False:\n",
        "    print(f'📁 Mounting Google Drive.  Please accept any confirmation screens.')\n",
        "    drive.mount('/content/gdrive/')\n",
        "  else:\n",
        "    print(f'📁 Google Drive already mounted.')\n",
        "  content_root = '/content/gdrive/MyDrive'\n",
        "\n",
        "dd_root = f'{content_root}/disco-diffusion-1'\n",
        "\n",
        "print(f'✅ Disco Diffusion root path will be \"{dd_root}\"')\n",
        "\n",
        "is_colab = False\n",
        "try:\n",
        "    from google.colab import drive\n",
        "    print(\"Google Colab detected.\")\n",
        "    is_colab=True\n",
        "except:\n",
        "    print(\"Google Colab not detected.\")\n",
        "    is_colab=False\n",
        "\n",
        "root_path = dd_root\n",
        "\n",
        "# Clone Repo\n",
        "if os.path.isdir(f'{dd_root}') == False:\n",
        "  print(f\"Cloning repo '{repo}' into '{dd_root}'...\")\n",
        "  os.chdir(f'{content_root}')\n",
        "  subprocess.run(f'git clone {repo}'.split(' '), stdout=subprocess.PIPE).stdout.decode(\"utf-8\")\n",
        "\n",
        "os.chdir(f'{dd_root}')\n",
        "if check_for_updates == True:\n",
        "  # Pull any updates\n",
        "  print(f'📄 Pulling updates from GitHub...')\n",
        "  for cmd in ['git clean -df', f'git checkout {branch}', f'git reset --hard', f'git pull origin {branch}']:\n",
        "    gitresults = subprocess.run(f'{cmd}'.split(' '), stdout=subprocess.PIPE).stdout.decode(\"utf-8\")\n",
        "    print(f'{gitresults}')\n",
        "else:\n",
        "  print(\"⚠️ Skipping checking for Git updates\")\n",
        "#Upgrade pyyaml if in Colab\n",
        "if is_colab:\n",
        "    print(f'📦 Upgrading pyyaml...')\n",
        "    subprocess.run(f'pip install --upgrade pyyaml --quiet'.split(' '), stdout=subprocess.PIPE).stdout.decode(\"utf-8\")\n",
        "    print(f'📦 Installing pip requirements...')\n",
        "    subprocess.run(f'pip install -r colab-requirements.txt --quiet'.split(' '), stdout=subprocess.PIPE).stdout.decode(\"utf-8\")\n",
        "    need_pytorch3d=False\n",
        "    try:\n",
        "      import pytorch3d\n",
        "    except ModuleNotFoundError:\n",
        "        need_pytorch3d=True\n",
        "    \n",
        "    if need_pytorch3d:\n",
        "        print(f'📦 Installing pytorch3d requirements...')\n",
        "        if torch.__version__.startswith(\"1.11.\") and sys.platform.startswith(\"linux\"):\n",
        "            # We try to install PyTorch3D via a released wheel.\n",
        "            pyt_version_str=torch.__version__.split(\"+\")[0].replace(\".\", \"\")\n",
        "            version_str=\"\".join([\n",
        "                f\"py3{sys.version_info.minor}_cu\",\n",
        "                torch.version.cuda.replace(\".\",\"\"),\n",
        "                f\"_pyt{pyt_version_str}\"\n",
        "            ])\n",
        "            subprocess.run(f'pip install fvcore iopath'.split(' '), stdout=subprocess.PIPE).stdout.decode(\"utf-8\")\n",
        "            subprocess.run(f'pip install --no-index --no-cache-dir pytorch3d -f https://dl.fbaipublicfiles.com/pytorch3d/packaging/wheels/{version_str}/download.html'.split(' '), stdout=subprocess.PIPE).stdout.decode(\"utf-8\")\n",
        "        # else:\n",
        "        #     # We try to install PyTorch3D from source.\n",
        "        #     !curl -LO https://github.com/NVIDIA/cub/archive/1.10.0.tar.gz\n",
        "        #     !tar xzf 1.10.0.tar.gz\n",
        "        #     os.environ[\"CUB_HOME\"] = os.getcwd() + \"/cub-1.10.0\"\n",
        "        #     !pip install 'git+https://github.com/facebookresearch/pytorch3d.git@stable'\n",
        "\n",
        "\n",
        "# Set base project directory to current working directory\n",
        "PROJECT_DIR = dd_root\n",
        "\n",
        "# Import DD helper modules\n",
        "sys.path.append(PROJECT_DIR)\n",
        "import dd, dd_args\n",
        "\n",
        "# Unsure about these:\n",
        "os.environ[\"KMP_DUPLICATE_LIB_OK\"] = \"TRUE\"\n",
        "# import warnings\n",
        "# warnings.filterwarnings(\"ignore\", category=UserWarning)\n",
        "\n",
        "# print(dd.is_in_notebook())"
      ]
    },
    {
      "cell_type": "markdown",
      "source": [
        "## 🏃‍♂️ Start Job\n",
        "\n",
        "**Press Run to Start Job!**\n",
        "\n",
        "🪄 **TIP:** If you have `multipliers` or `modifiers` that result in multiple jobs, you can press the 'Stop' button in your Notebook to skip that job and proceed to the next.  If you have many jobs and want to kill them all, it is easier just to reset the runtime instead of clicking the Stop button over and over, depending on how many jobs there are."
      ],
      "metadata": {
        "id": "lm_Jz957iBim"
      }
    },
    {
      "cell_type": "code",
      "source": [
        "#@title  { display-mode: \"form\" }\n",
        "from pydotted import pydot\n",
        "args = pydot({})\n",
        "#@markdown ## Specify your YAML config file\n",
        "args.config_file = \"/content/gdrive/MyDrive/disco-diffusion-1/examples/configs/explore.yaml\" #@param {type: \"string\"}\n",
        "#@markdown ## Parameter overriding\n",
        "#@markdown 💡 You can also override any other parameters here manually, such as these examples:\n",
        "# args.db = \"/content/gdrive/MyDrive/disco-diffusion-1/disco.db\" #@param {type: \"string\"}\n",
        "args.set_seed = 8675309 #@param {type: \"number\"}\n",
        "\n",
        "# Load defaults\n",
        "pargs = dd_args.arg_configuration_loader(args)\n",
        "\n",
        "# Setup folders\n",
        "folders = dd.setupFolders(is_colab=dd.detectColab(), PROJECT_DIR=PROJECT_DIR, pargs=pargs)\n",
        "\n",
        "# Load Models\n",
        "dd.loadModels(folders)\n",
        "\n",
        "# Report System Details\n",
        "dd.systemDetails(pargs)\n",
        "\n",
        "# Get CUDA Device\n",
        "device = dd.getDevice(pargs)\n",
        "\n",
        "dd.start_run(pargs=pargs, folders=folders, device=device, is_colab=dd.detectColab())"
      ],
      "metadata": {
        "id": "Mnu3_2LvThIZ"
      },
      "execution_count": null,
      "outputs": []
    }
  ]
}
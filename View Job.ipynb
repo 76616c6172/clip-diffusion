{
  "cells": [
    {
      "cell_type": "markdown",
      "metadata": {
        "id": "view-in-github",
        "colab_type": "text"
      },
      "source": [
        "<a href=\"https://colab.research.google.com/github/entmike/disco-diffusion-1/blob/main/View%20Job.ipynb\" target=\"_parent\"><img src=\"https://colab.research.google.com/assets/colab-badge.svg\" alt=\"Open In Colab\"/></a>"
      ]
    },
    {
      "cell_type": "markdown",
      "metadata": {
        "id": "BCAHI8ctUled"
      },
      "source": [
        "# 🖼️ Simplified Disco Diffusion (Batch Viewer)\n",
        "\n",
        "[![Discord](https://badgen.net/badge/icon/discord?icon=discord&label)](https://discord.gg/FqsE83fT)\n",
        "[![Maintenance](https://img.shields.io/badge/Maintained%3F-yes-green.svg)](https://github.com/entmike/disco-diffusion-1)\n",
        "![Terminal](https://badgen.net/badge/icon/terminal?icon=terminal&label)\n",
        "[![Issues](https://img.shields.io/github/issues/entmike/disco-diffusion-1)](https://github.com/entmike/disco-diffusion-1/issues)\n",
        "![Stars](https://img.shields.io/github/stars/entmike/disco-diffusion-1)\n",
        "![Commits](https://img.shields.io/github/commit-activity/w/entmike/disco-diffusion-1)\n",
        "\n",
        "**Expand this section for details.**\n",
        "\n",
        "Special thanks to Zippy#1111 on Discord (https://gist.github.com/aredden) for image grid ninja work!"
      ]
    },
    {
      "cell_type": "code",
      "source": [
        "import subprocess\n",
        "use_google_drive = True #@param {type:\"boolean\"}\n",
        "dbpath = \"/content/gdrive/MyDrive/disco-diffusion-1/disco.db\" #@param {type:\"string\"}\n",
        "if use_google_drive == True:\n",
        "  import os\n",
        "  from google.colab import drive\n",
        "  if os.path.isdir('/content/gdrive') == False:\n",
        "    print(f'📁 Mounting Google Drive.  Please accept any confirmation screens.')\n",
        "    drive.mount('/content/gdrive/')\n",
        "  else:\n",
        "    print(f'📁 Google Drive already mounted.')\n",
        "  content_root = '/content/gdrive/MyDrive'\n",
        "\n",
        "print(f'📦 Installing sqlite3...')\n",
        "subprocess.run(f'pip install --upgrade pyyaml --quiet'.split(' '), stdout=subprocess.PIPE).stdout.decode(\"utf-8\")"
      ],
      "metadata": {
        "id": "0Vs5FSv9gUOC",
        "outputId": "40e52ceb-e455-48b8-c012-c036906fc4ae",
        "colab": {
          "base_uri": "https://localhost:8080/",
          "height": 87
        }
      },
      "execution_count": 3,
      "outputs": [
        {
          "output_type": "stream",
          "name": "stdout",
          "text": [
            "📁 Mounting Google Drive.  Please accept any confirmation screens.\n",
            "Mounted at /content/gdrive/\n",
            "📦 Installing sqlite3...\n"
          ]
        },
        {
          "output_type": "execute_result",
          "data": {
            "text/plain": [
              "''"
            ],
            "application/vnd.google.colaboratory.intrinsic+json": {
              "type": "string"
            }
          },
          "metadata": {},
          "execution_count": 3
        }
      ]
    },
    {
      "cell_type": "code",
      "execution_count": 4,
      "metadata": {
        "id": "dC3jKyUvgJq0"
      },
      "outputs": [],
      "source": [
        "import sqlite3\n",
        "import io\n",
        "import numpy as np\n",
        "from IPython.display import Image, display\n",
        "import math\n",
        "import matplotlib.pyplot as plt\n",
        "import matplotlib.image as mpimg\n",
        "from mpl_toolkits.axes_grid1 import ImageGrid\n",
        "from PIL import Image as PILImg\n",
        "from typing import List\n",
        "import cv2\n",
        "\n",
        "dbcon = sqlite3.connect(dbpath)\n",
        "cursor = dbcon.cursor()\n",
        "\n",
        "def fetchImages(sql = None):\n",
        "    cursor.execute(sql)\n",
        "    records = cursor.fetchall()\n",
        "    images = []\n",
        "    for row in records:\n",
        "        blob_data = row[0]\n",
        "        # nparr = np.fromstring(blob_data, np.uint8)\n",
        "        images.append([np.array(PILImg.open(io.BytesIO(blob_data))), row[1]])\n",
        "    return images\n",
        "\n",
        "def image_grid(images: List[np.ndarray], ncols: int, scale=0.5):\n",
        "    \"\"\"\n",
        "    Creates a grid of images with 'ncols' number of image columns, images must all be the same shape.\n",
        "    \"\"\"\n",
        "    assert len(images) >= ncols, \"Must have more images than columns\"\n",
        "    nrows = math.ceil(len(images) / ncols)\n",
        "    images_size = images[0][0].shape[:2]\n",
        "    grid_img = np.zeros((nrows * images_size[0], ncols * images_size[1], 3), dtype=np.uint8)\n",
        "    for i, img in enumerate(images):\n",
        "        # image, name = img\n",
        "        img = cv2.putText(\n",
        "            img=img[0].astype(np.uint8),\n",
        "            text=img[1].split(\"/\")[-1],\n",
        "            org=(40, 50),\n",
        "            fontFace=cv2.FONT_HERSHEY_SIMPLEX,\n",
        "            fontScale=2,\n",
        "            color=(255,255,255),\n",
        "            thickness=4,\n",
        "            lineType=cv2.LINE_8,\n",
        "        )\n",
        "        r = int(i / ncols)\n",
        "        c = i % ncols\n",
        "        grid_img[r * images_size[0]:(r + 1) * images_size[0], c * images_size[1]:(c + 1) * images_size[1]] = img\n",
        "    if scale != 1:\n",
        "        grid_img = cv2.resize(grid_img, (0,0), fx=scale, fy=scale,interpolation=cv2.INTER_LANCZOS4)\n",
        "    return grid_img\n",
        "\n",
        "def displayGrid(image):\n",
        "    fig = plt.figure(dpi=300)\n",
        "    plot = fig.add_subplot(111)\n",
        "    plot.axis('off')\n",
        "    plot.imshow(image)\n",
        "    plot.set_xlim(0,image.shape[1])\n",
        "    plot.set_ylim(image.shape[0],0)\n",
        "    plot.set_alpha(1)\n",
        "    plot.set_clip_on(True)\n",
        "    plot.figure.canvas.draw()"
      ]
    },
    {
      "cell_type": "markdown",
      "metadata": {
        "id": "F8iTJZlJgJq2"
      },
      "source": [
        "# Display Images in a Grid"
      ]
    },
    {
      "cell_type": "code",
      "execution_count": null,
      "metadata": {
        "id": "RQ1_4p-igJq2"
      },
      "outputs": [],
      "source": [
        "session_id = '5577d7ed-07c3-4dac-8e3d-b08c4dea8b7d'\n",
        "images = fetchImages(sql = f\"SELECT images.image, images.image_path FROM jobs INNER JOIN images ON images.job_uuid = jobs.uuid WHERE jobs.session_uuid='{session_id}'\")\n",
        "print(f'{len(images)} images found.')\n",
        "grid = image_grid(images, 4)\n",
        "displayGrid(grid)"
      ]
    }
  ],
  "metadata": {
    "accelerator": "GPU",
    "colab": {
      "name": "Simplified Disco Diffusion",
      "provenance": [],
      "include_colab_link": true
    },
    "interpreter": {
      "hash": "39d5a904c86884045953aaff075d987f994610fd63df0dc2e867bc5c5785f72f"
    },
    "kernelspec": {
      "display_name": "Python 3.9.7 ('discodiffusion': venv)",
      "language": "python",
      "name": "python3"
    },
    "language_info": {
      "codemirror_mode": {
        "name": "ipython",
        "version": 3
      },
      "file_extension": ".py",
      "mimetype": "text/x-python",
      "name": "python",
      "nbconvert_exporter": "python",
      "pygments_lexer": "ipython3",
      "version": "3.9.7"
    }
  },
  "nbformat": 4,
  "nbformat_minor": 0
}